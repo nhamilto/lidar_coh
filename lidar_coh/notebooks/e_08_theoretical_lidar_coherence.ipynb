{
 "cells": [
  {
   "cell_type": "markdown",
   "metadata": {},
   "source": [
    "# calculate longitudinal coherence between two lidar range gates"
   ]
  },
  {
   "cell_type": "code",
   "execution_count": 2,
   "metadata": {},
   "outputs": [],
   "source": [
    "\n",
    "import pandas as pd\n",
    "import numpy as np\n",
    "import matplotlib.pyplot as plt\n",
    "import scipy.special as sp\n",
    "\n",
    "#from tqdm import tqdm_notebook as tqdm\n"
   ]
  },
  {
   "cell_type": "code",
   "execution_count": 3,
   "metadata": {},
   "outputs": [
    {
     "name": "stdout",
     "output_type": "stream",
     "text": [
      "Using matplotlib backend: MacOSX\n"
     ]
    }
   ],
   "source": [
    "# %matplotlib inline\n",
    "%matplotlib\n",
    "#tqdm().pandas()"
   ]
  },
  {
   "cell_type": "markdown",
   "metadata": {},
   "source": [
    "## Parameters"
   ]
  },
  {
   "cell_type": "code",
   "execution_count": 4,
   "metadata": {},
   "outputs": [],
   "source": [
    "# longitudinal coherence parameters\n",
    "a1 = 8.4\n",
    "a2 = 0.05\n",
    "b1 = 0.25\n",
    "b2 = 1.24\n",
    "\n",
    "# wind parameters\n",
    "U = 11.5\n",
    "sigma = 0.71\n",
    "L = 550\n",
    "\n",
    "# range gate separation distance\n",
    "d = 36\n",
    "# pulsed lidar parameters\n",
    "delp = 18.\n",
    "delr = 49.8/2\n",
    "\n",
    "# frequencies to analyze\n",
    "fs = np.arange(0,0.5,0.01)"
   ]
  },
  {
   "cell_type": "markdown",
   "metadata": {},
   "source": [
    "## Define longitudinal coherence and lidar range weighting functions"
   ]
  },
  {
   "cell_type": "code",
   "execution_count": 5,
   "metadata": {},
   "outputs": [],
   "source": [
    "def long_coh(fs,d,U,sigma,L,a1=8.4,a2=0.05,b1=0.25,b2=1.24):\n",
    "    a = a1*sigma/U + a2\n",
    "    b = b1*L**-b2\n",
    "    return np.exp(-a*np.sqrt((fs*d/U)**2 + (b*d)**2))"
   ]
  },
  {
   "cell_type": "code",
   "execution_count": 6,
   "metadata": {},
   "outputs": [],
   "source": [
    "def range_weight(delp,delr,res=1.,cutoff=0.01):\n",
    "    rp = delr/(2*np.sqrt(np.log(2)))\n",
    "    \n",
    "    wts = np.array([(1/(2*delp))*(sp.erf((delp/2)/rp) - sp.erf((-delp/2)/rp))])\n",
    "    wt = wts[0]\n",
    "    wt0 = wt\n",
    "    \n",
    "    r = res\n",
    "    while wt/wt0 > cutoff:\n",
    "        wt = (1/(2*delp))*(sp.erf((r+delp/2)/rp) - sp.erf((r-delp/2)/rp))\n",
    "        wts = np.append(np.append(wt,wts),wt)\n",
    "        r = r + res\n",
    "    \n",
    "    wts = wts/np.sum(wts)\n",
    "    \n",
    "    return wts"
   ]
  },
  {
   "cell_type": "markdown",
   "metadata": {},
   "source": [
    "## Calculate coherence between range gates"
   ]
  },
  {
   "cell_type": "code",
   "execution_count": 8,
   "metadata": {},
   "outputs": [
    {
     "data": {
      "text/plain": [
       "range(0, 50)"
      ]
     },
     "execution_count": 8,
     "metadata": {},
     "output_type": "execute_result"
    }
   ],
   "source": [
    "range(len(fs))"
   ]
  },
  {
   "cell_type": "code",
   "execution_count": 9,
   "metadata": {},
   "outputs": [],
   "source": [
    "res = 0.1\n",
    "wts = range_weight(delp,delr,res,0.01)\n",
    "xs = np.arange(-(len(wts)-1)*res/2,(len(wts)-1)*res/2+res,res)\n",
    "\n",
    "S_LL = np.zeros(len(fs))\n",
    "S_L1L2 = np.zeros(len(fs))\n",
    "\n",
    "# not including PSDs since they will cancel out in final coherence equation\n",
    "\n",
    "for i in range(len(xs)-1):\n",
    "    for k in range(len(xs)-1):\n",
    "        S_LL = S_LL + wts[i]*wts[k]*np.sqrt(long_coh(fs,np.abs(xs[k]-xs[i]),U,sigma,L,a1=a1,a2=a2,b1=b1,b2=b2))*np.exp(1j*2*np.pi*(xs[k]-xs[i])*fs/U)\n",
    "        S_L1L2 = S_L1L2 + wts[i]*wts[k]*np.sqrt(long_coh(fs,np.abs(d+xs[k]-xs[i]),U,sigma,L,a1=a1,a2=a2,b1=b1,b2=b2))*np.exp(1j*2*np.pi*(d+xs[k]-xs[i])*fs/U)\n",
    "        \n",
    "Coh_L1L2 = (np.absolute(S_L1L2)**2)/(np.absolute(S_LL)**2)  "
   ]
  },
  {
   "cell_type": "code",
   "execution_count": null,
   "metadata": {},
   "outputs": [],
   "source": []
  },
  {
   "cell_type": "markdown",
   "metadata": {},
   "source": [
    "## plot original and lidar measured coherence"
   ]
  },
  {
   "cell_type": "code",
   "execution_count": 10,
   "metadata": {},
   "outputs": [
    {
     "data": {
      "text/plain": [
       "Text(0.5, 0, 'Frequency (Hz)')"
      ]
     },
     "execution_count": 10,
     "metadata": {},
     "output_type": "execute_result"
    }
   ],
   "source": [
    "Coh_x1x2 = long_coh(fs,d,U,sigma,L,a1=a1,a2=a2,b1=b1,b2=b2)\n",
    "\n",
    "plt.figure()\n",
    "plt.plot(fs,Coh_x1x2,label='Point to Point Coherence')\n",
    "plt.plot(fs,Coh_L1L2,label='Lidar Measurement Coherence')\n",
    "plt.xscale('log')\n",
    "plt.legend()\n",
    "plt.title('Longitudinal Coherence for d = '+str(d)+' m')\n",
    "plt.xlabel('Frequency (Hz)')\n",
    "\n",
    "# fig,axs = plt.subplots(2,1,sharex=True)\n",
    "\n",
    "# axs[0].plot(fs,np.absolute(H))\n",
    "# axs[0].scatter(fs[i],np.absolute(H[i]))\n",
    "# axs[0].set_ylabel('Magnitude (-)')\n",
    "# axs[0].set_xscale('log')\n",
    "# axs[1].plot(fs,np.degrees(np.angle(H))/(360*fs))\n",
    "# axs[1].scatter(fs[i],np.degrees(np.angle(H[i]))/(360*fs[i]))\n",
    "# axs[1].set_xlabel('Frequency (Hz)')\n",
    "# axs[1].set_ylabel('Time lag (s)')\n",
    "# axs[1].set_xscale('log')"
   ]
  },
  {
   "cell_type": "code",
   "execution_count": null,
   "metadata": {},
   "outputs": [],
   "source": []
  }
 ],
 "metadata": {
  "kernelspec": {
   "display_name": "Python 3",
   "language": "python",
   "name": "python3"
  },
  "language_info": {
   "codemirror_mode": {
    "name": "ipython",
    "version": 3
   },
   "file_extension": ".py",
   "mimetype": "text/x-python",
   "name": "python",
   "nbconvert_exporter": "python",
   "pygments_lexer": "ipython3",
   "version": "3.7.3"
  }
 },
 "nbformat": 4,
 "nbformat_minor": 4
}
